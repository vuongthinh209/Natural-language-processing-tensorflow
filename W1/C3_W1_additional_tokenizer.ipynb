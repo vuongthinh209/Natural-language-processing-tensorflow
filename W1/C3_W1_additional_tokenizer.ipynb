{
  "nbformat": 4,
  "nbformat_minor": 0,
  "metadata": {
    "colab": {
      "name": "W1_Tokenizer",
      "provenance": [],
      "collapsed_sections": [],
      "authorship_tag": "ABX9TyOM63UeTDmZmHyhVU67hR0j",
      "include_colab_link": true
    },
    "kernelspec": {
      "name": "python3",
      "display_name": "Python 3"
    },
    "language_info": {
      "name": "python"
    }
  },
  "cells": [
    {
      "cell_type": "markdown",
      "metadata": {
        "id": "view-in-github",
        "colab_type": "text"
      },
      "source": [
        "<a href=\"https://colab.research.google.com/github/vuongthinh209/Natural-language-processing-tensorflow/blob/main/W1/W1_C3_Additional_tokenizer.ipynb\" target=\"_parent\"><img src=\"https://colab.research.google.com/assets/colab-badge.svg\" alt=\"Open In Colab\"/></a>"
      ]
    },
    {
      "cell_type": "code",
      "execution_count": null,
      "metadata": {
        "colab": {
          "base_uri": "https://localhost:8080/"
        },
        "id": "Hkfx8Im_nd-x",
        "outputId": "72f079e8-b4d7-4bbe-ebd6-bedecce4e060"
      },
      "outputs": [
        {
          "output_type": "stream",
          "name": "stdout",
          "text": [
            "word index: {'i': 1, 'you': 2, 'love': 3, 'my': 4, 'dog': 5, 'really': 6, 'like': 7, 'your': 8, 'cat': 9, 'do': 10, 'think': 11, 'hug': 12, 'it': 13}\n",
            "encoded sentences: [[1, 3, 4, 5], [1, 6, 7, 8, 9], [10, 2, 11, 2, 12, 13]]\n",
            "encode test: [[4, 9]]\n"
          ]
        }
      ],
      "source": [
        "# Tokenizer:  lowercase,encode BOW into number, skip punctuations\n",
        "from tensorflow.keras.preprocessing.text import Tokenizer\n",
        "\n",
        "sentences = [\n",
        "    'I love my dog!',\n",
        "    'I really like your CAT!',\n",
        "    'Do you think you hug it?'\n",
        "]\n",
        "\n",
        "tokenizer = Tokenizer()\n",
        "tokenizer.fit_on_texts(sentences)\n",
        "word_index = tokenizer.word_index\n",
        "print('word index:', word_index)\n",
        "\n",
        "sequences = tokenizer.texts_to_sequences(sentences)\n",
        "print('encoded sentences:', sequences)\n",
        "\n",
        "test_sentence = ['He hates my cat']\n",
        "test_sequence = tokenizer.texts_to_sequences(test_sentence)\n",
        "print('encode test:', test_sequence)\n"
      ]
    },
    {
      "cell_type": "code",
      "source": [
        "# OOV: out of vocab\n",
        "oov_tokenizer = Tokenizer(oov_token = '<OOV>')\n",
        "oov_tokenizer.fit_on_texts(sentences)\n",
        "oov_index = oov_tokenizer.word_index\n",
        "print('\\noov index:', oov_index)\n",
        "oov_sequence = oov_tokenizer.texts_to_sequences(test_sentence)\n",
        "print('encode oov:', oov_sequence)"
      ],
      "metadata": {
        "colab": {
          "base_uri": "https://localhost:8080/"
        },
        "id": "aOzxD8qktyTl",
        "outputId": "f31f83d7-2df0-4640-8fb1-58a9b7e77425"
      },
      "execution_count": null,
      "outputs": [
        {
          "output_type": "stream",
          "name": "stdout",
          "text": [
            "\n",
            "oov index: {'<OOV>': 1, 'i': 2, 'you': 3, 'love': 4, 'my': 5, 'dog': 6, 'really': 7, 'like': 8, 'your': 9, 'cat': 10, 'do': 11, 'think': 12, 'hug': 13, 'it': 14}\n",
            "encode oov: [[1, 1, 5, 10]]\n"
          ]
        }
      ]
    },
    {
      "cell_type": "code",
      "source": [
        "#Padding\n",
        "from tensorflow.keras.preprocessing.sequence import pad_sequences\n",
        "\n",
        "padding = pad_sequences(sequences)\n",
        "print('p:\\n', padding)\n",
        "padding1 = pad_sequences(sequences, padding = 'post')\n",
        "print('p1:\\n', padding1)\n",
        "padding2 = pad_sequences(sequences, padding = 'post', truncating = 'post')\n",
        "print('p2:\\n', padding2)\n",
        "padding3 = pad_sequences(sequences, padding = 'post', truncating = 'post', maxlen = 5)\n",
        "print('p3:\\n', padding3)"
      ],
      "metadata": {
        "colab": {
          "base_uri": "https://localhost:8080/"
        },
        "id": "u53ag10Lt_RZ",
        "outputId": "8498a428-9ae2-4e13-94d7-01d836e27437"
      },
      "execution_count": null,
      "outputs": [
        {
          "output_type": "stream",
          "name": "stdout",
          "text": [
            "p:\n",
            " [[ 0  0  1  3  4  5]\n",
            " [ 0  1  6  7  8  9]\n",
            " [10  2 11  2 12 13]]\n",
            "p1:\n",
            " [[ 1  3  4  5  0  0]\n",
            " [ 1  6  7  8  9  0]\n",
            " [10  2 11  2 12 13]]\n",
            "p2:\n",
            " [[ 1  3  4  5  0  0]\n",
            " [ 1  6  7  8  9  0]\n",
            " [10  2 11  2 12 13]]\n",
            "p3:\n",
            " [[ 1  3  4  5  0]\n",
            " [ 1  6  7  8  9]\n",
            " [10  2 11  2 12]]\n"
          ]
        }
      ]
    },
    {
      "cell_type": "markdown",
      "source": [
        "# Kết luận\n",
        "- **Tokenizer**:\n",
        "  - Thông số:\n",
        "    - **truncating**: khi len(sequence) > **maxlen** thì loại bỏ phần tử dư thừa trước hoặc sau sequence"
      ],
      "metadata": {
        "id": "unL7ZmqPrI3D"
      }
    }
  ]
}
