{
  "nbformat": 4,
  "nbformat_minor": 0,
  "metadata": {
    "colab": {
      "name": "W1_Tokenizer",
      "provenance": [],
      "collapsed_sections": [],
      "authorship_tag": "ABX9TyNqtVkOKRKst3wkXCzN/eNo",
      "include_colab_link": true
    },
    "kernelspec": {
      "name": "python3",
      "display_name": "Python 3"
    },
    "language_info": {
      "name": "python"
    }
  },
  "cells": [
    {
      "cell_type": "markdown",
      "metadata": {
        "id": "view-in-github",
        "colab_type": "text"
      },
      "source": [
        "<a href=\"https://colab.research.google.com/github/vuongthinh209/Natural-language-processing-tensorflow/blob/main/W1/C3_W1_additional_tokenizer.ipynb\" target=\"_parent\"><img src=\"https://colab.research.google.com/assets/colab-badge.svg\" alt=\"Open In Colab\"/></a>"
      ]
    },
    {
      "cell_type": "code",
      "execution_count": 15,
      "metadata": {
        "colab": {
          "base_uri": "https://localhost:8080/"
        },
        "id": "Hkfx8Im_nd-x",
        "outputId": "9929cdee-6119-43a4-f80e-e812992cb5d1"
      },
      "outputs": [
        {
          "output_type": "stream",
          "name": "stdout",
          "text": [
            "word index: {'i': 1, 'my': 2, 'cat': 3, 'you': 4, 'love': 5, 'dog': 6, 'really': 7, 'like': 8, 'your': 9, 'do': 10, 'think': 11, 'hug': 12, 'it': 13, 'he': 14, 'hates': 15}\n",
            "encoded sentences: [[1, 2], [1], [], [2]]\n",
            "encode test: [[2]]\n"
          ]
        }
      ],
      "source": [
        "# Tokenizer:  lowercase,encode BOW into number, skip punctuations\n",
        "from tensorflow.keras.preprocessing.text import Tokenizer\n",
        "\n",
        "sentences = [\n",
        "    'I love my dog!',\n",
        "    'I really like your CAT!',\n",
        "    'Do you think you hug it?',\n",
        "    'He hates my cat'\n",
        "]\n",
        "\n",
        "tokenizer = Tokenizer(num_words = 3)\n",
        "tokenizer.fit_on_texts(sentences)\n",
        "word_index = tokenizer.word_index\n",
        "print('word index:', word_index)\n",
        "\n",
        "sequences = tokenizer.texts_to_sequences(sentences)\n",
        "print('encoded sentences:', sequences)\n",
        "\n",
        "test_sentence = ['He hates my cat']\n",
        "test_sequence = tokenizer.texts_to_sequences(test_sentence)\n",
        "print('encode test:', test_sequence)\n"
      ]
    },
    {
      "cell_type": "code",
      "source": [
        "# Num_words\n",
        "for num in range(1,6):\n",
        "  tokenizer = Tokenizer(num_words = num)\n",
        "  tokenizer.fit_on_texts(sentences)\n",
        "  sequence = tokenizer.texts_to_sequences(sentences)\n",
        "  print(f'sequence with num_words({num}): {sequence}')"
      ],
      "metadata": {
        "id": "H5Q5Wzdcusq1",
        "outputId": "6de07dc0-3374-4ab9-fbcb-80e7b2410a10",
        "colab": {
          "base_uri": "https://localhost:8080/"
        }
      },
      "execution_count": 16,
      "outputs": [
        {
          "output_type": "stream",
          "name": "stdout",
          "text": [
            "sequence with num_words(1): [[], [], [], []]\n",
            "sequence with num_words(2): [[1], [1], [], []]\n",
            "sequence with num_words(3): [[1, 2], [1], [], [2]]\n",
            "sequence with num_words(4): [[1, 2], [1, 3], [], [2, 3]]\n",
            "sequence with num_words(5): [[1, 2], [1, 3], [4, 4], [2, 3]]\n"
          ]
        }
      ]
    },
    {
      "cell_type": "code",
      "source": [
        "# OOV: out of vocab\n",
        "oov_tokenizer = Tokenizer(oov_token = '<OOV>')\n",
        "oov_tokenizer.fit_on_texts(sentences)\n",
        "oov_index = oov_tokenizer.word_index\n",
        "print('\\noov index:', oov_index)\n",
        "oov_sequence = oov_tokenizer.texts_to_sequences(test_sentence)\n",
        "print('encode oov:', oov_sequence)"
      ],
      "metadata": {
        "colab": {
          "base_uri": "https://localhost:8080/"
        },
        "id": "aOzxD8qktyTl",
        "outputId": "11b337b0-62ec-4aa3-a419-fdd157800a8c"
      },
      "execution_count": 7,
      "outputs": [
        {
          "output_type": "stream",
          "name": "stdout",
          "text": [
            "\n",
            "oov index: {'<OOV>': 1, 'i': 2, 'you': 3, 'love': 4, 'my': 5, 'dog': 6, 'really': 7, 'like': 8, 'your': 9, 'cat': 10, 'do': 11, 'think': 12, 'hug': 13, 'it': 14}\n",
            "encode oov: [[1, 1, 5, 10]]\n"
          ]
        }
      ]
    },
    {
      "cell_type": "code",
      "source": [
        "#Padding\n",
        "from tensorflow.keras.preprocessing.sequence import pad_sequences\n",
        "\n",
        "padding = pad_sequences(sequences)\n",
        "print('p:\\n', padding)\n",
        "padding1 = pad_sequences(sequences, padding = 'post')\n",
        "print('p1:\\n', padding1)\n",
        "padding2 = pad_sequences(sequences, padding = 'post', truncating = 'post')\n",
        "print('p2:\\n', padding2)\n",
        "padding3 = pad_sequences(sequences, padding = 'post', truncating = 'post', maxlen = 5)\n",
        "print('p3:\\n', padding3)"
      ],
      "metadata": {
        "colab": {
          "base_uri": "https://localhost:8080/"
        },
        "id": "u53ag10Lt_RZ",
        "outputId": "8498a428-9ae2-4e13-94d7-01d836e27437"
      },
      "execution_count": null,
      "outputs": [
        {
          "output_type": "stream",
          "name": "stdout",
          "text": [
            "p:\n",
            " [[ 0  0  1  3  4  5]\n",
            " [ 0  1  6  7  8  9]\n",
            " [10  2 11  2 12 13]]\n",
            "p1:\n",
            " [[ 1  3  4  5  0  0]\n",
            " [ 1  6  7  8  9  0]\n",
            " [10  2 11  2 12 13]]\n",
            "p2:\n",
            " [[ 1  3  4  5  0  0]\n",
            " [ 1  6  7  8  9  0]\n",
            " [10  2 11  2 12 13]]\n",
            "p3:\n",
            " [[ 1  3  4  5  0]\n",
            " [ 1  6  7  8  9]\n",
            " [10  2 11  2 12]]\n"
          ]
        }
      ]
    },
    {
      "cell_type": "markdown",
      "source": [
        "# Kết luận\n",
        "- **Tokenizer**:\n",
        "  - Thông số:\n",
        "    - **num_words**: \n",
        "      - Cách diễn đạt 1: khi chuyển text sang seq, chọn các từ có số <= **num_words - 1**\n",
        "      - Cách diễn đạt 2: chọn **num_words -1 đầu tiên** trong **túi từ ánh xạ*** để chuyển text sang seq\n",
        "    - **truncating**: khi len(sequence) > **maxlen** thì loại bỏ phần tử dư thừa trước hoặc sau sequence\n",
        "  - Chú thích: **túi từ ánh xạ** là output của **fit_on_texts**"
      ],
      "metadata": {
        "id": "unL7ZmqPrI3D"
      }
    }
  ]
}