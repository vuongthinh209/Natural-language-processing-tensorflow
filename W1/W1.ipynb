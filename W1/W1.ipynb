{
  "nbformat": 4,
  "nbformat_minor": 0,
  "metadata": {
    "colab": {
      "name": "W1",
      "provenance": [],
      "collapsed_sections": [],
      "authorship_tag": "ABX9TyOlkC41A0BG4jro1/zxoJru",
      "include_colab_link": true
    },
    "kernelspec": {
      "name": "python3",
      "display_name": "Python 3"
    },
    "language_info": {
      "name": "python"
    }
  },
  "cells": [
    {
      "cell_type": "markdown",
      "metadata": {
        "id": "view-in-github",
        "colab_type": "text"
      },
      "source": [
        "<a href=\"https://colab.research.google.com/github/vuongthinh209/Natural-language-processing-tensorflow/blob/main/W1/W1.ipynb\" target=\"_parent\"><img src=\"https://colab.research.google.com/assets/colab-badge.svg\" alt=\"Open In Colab\"/></a>"
      ]
    },
    {
      "cell_type": "code",
      "execution_count": 21,
      "metadata": {
        "colab": {
          "base_uri": "https://localhost:8080/"
        },
        "id": "Hkfx8Im_nd-x",
        "outputId": "1a43daf7-079f-4b42-d4a5-17a7f574884c"
      },
      "outputs": [
        {
          "output_type": "stream",
          "name": "stdout",
          "text": [
            "word index: {'i': 1, 'love': 2, 'my': 3, 'dog': 4, 'really': 5, 'like': 6, 'your': 7, 'cat': 8}\n",
            "encoded sentences: [[1, 2, 3, 4], [1, 5, 6, 7, 8]]\n",
            "encode test: [[3, 8]]\n",
            "\n",
            "oov index: {'<OOV>': 1, 'i': 2, 'love': 3, 'my': 4, 'dog': 5, 'really': 6, 'like': 7, 'your': 8, 'cat': 9}\n",
            "encode oov: [[1, 1, 4, 9]]\n"
          ]
        }
      ],
      "source": [
        "# Tokenizer:  lowercase,encode BOW into number, skip punctuations\n",
        "from tensorflow.keras.preprocessing.text import Tokenizer\n",
        "\n",
        "sentences = [\n",
        "    'I love my dog!',\n",
        "    'I really like your CAT!'\n",
        "]\n",
        "\n",
        "tokenizer = Tokenizer()\n",
        "tokenizer.fit_on_texts(sentences)\n",
        "word_index = tokenizer.word_index\n",
        "print('word index:', word_index)\n",
        "\n",
        "sequences = tokenizer.texts_to_sequences(sentences)\n",
        "print('encoded sentences:', sequences)\n",
        "\n",
        "test_sentence = ['He hates my cat']\n",
        "test_sequence = tokenizer.texts_to_sequences(test_sentence)\n",
        "print('encode test:', test_sequence)\n",
        "\n",
        "# OOV: out of vocab\n",
        "oov_tokenizer = Tokenizer(oov_token = '<OOV>')\n",
        "oov_tokenizer.fit_on_texts(sentences)\n",
        "oov_index = oov_tokenizer.word_index\n",
        "print('\\noov index:', oov_index)\n",
        "oov_sequence = oov_tokenizer.texts_to_sequences(test_sentence)\n",
        "print('encode oov:', oov_sequence)\n",
        "\n"
      ]
    }
  ]
}