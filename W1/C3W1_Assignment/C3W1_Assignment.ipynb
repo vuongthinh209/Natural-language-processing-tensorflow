{
  "cells": [
    {
      "cell_type": "markdown",
      "metadata": {
        "id": "view-in-github",
        "colab_type": "text"
      },
      "source": [
        "<a href=\"https://colab.research.google.com/github/vuongthinh209/Natural-language-processing-tensorflow/blob/main/W1/C3W1_Assignment/C3W1_Assignment.ipynb\" target=\"_parent\"><img src=\"https://colab.research.google.com/assets/colab-badge.svg\" alt=\"Open In Colab\"/></a>"
      ]
    },
    {
      "cell_type": "markdown",
      "id": "juvenile-enforcement",
      "metadata": {
        "id": "juvenile-enforcement"
      },
      "source": [
        "# Week 1: Explore the BBC News archive\n",
        "\n",
        "Welcome! In this assignment you will be working with a variation of the [BBC News Classification Dataset](https://www.kaggle.com/c/learn-ai-bbc/overview), which contains 2225 examples of news articles with their respective categories (labels).\n",
        "\n",
        "Let's get started!"
      ]
    },
    {
      "cell_type": "code",
      "execution_count": 7,
      "id": "combined-brooklyn",
      "metadata": {
        "id": "combined-brooklyn",
        "tags": [
          "graded"
        ]
      },
      "outputs": [],
      "source": [
        "import csv\n",
        "import pandas as pd\n",
        "from tensorflow.keras.preprocessing.text import Tokenizer\n",
        "from tensorflow.keras.preprocessing.sequence import pad_sequences"
      ]
    },
    {
      "cell_type": "markdown",
      "id": "dependent-power",
      "metadata": {
        "id": "dependent-power"
      },
      "source": [
        "Begin by looking at the structure of the csv that contains the data:"
      ]
    },
    {
      "cell_type": "code",
      "source": [
        "url = \"https://raw.githubusercontent.com/vuongthinh209/Natural-language-processing-tensorflow/main/W1/C3W1_Assignment/bbc-text.csv\"\n",
        "df = pd.read_csv(url)\n",
        "df.head()"
      ],
      "metadata": {
        "colab": {
          "base_uri": "https://localhost:8080/",
          "height": 206
        },
        "id": "AEjLQ-DqaPmI",
        "outputId": "c1ecab9b-1913-4663-c16d-fab81b5fd2b3"
      },
      "id": "AEjLQ-DqaPmI",
      "execution_count": 24,
      "outputs": [
        {
          "output_type": "execute_result",
          "data": {
            "text/plain": [
              "        category                                               text\n",
              "0           tech  tv future in the hands of viewers with home th...\n",
              "1       business  worldcom boss  left books alone  former worldc...\n",
              "2          sport  tigers wary of farrell  gamble  leicester say ...\n",
              "3          sport  yeading face newcastle in fa cup premiership s...\n",
              "4  entertainment  ocean s twelve raids box office ocean s twelve..."
            ],
            "text/html": [
              "\n",
              "  <div id=\"df-c0072137-9817-49b2-b36e-32cf482fd505\">\n",
              "    <div class=\"colab-df-container\">\n",
              "      <div>\n",
              "<style scoped>\n",
              "    .dataframe tbody tr th:only-of-type {\n",
              "        vertical-align: middle;\n",
              "    }\n",
              "\n",
              "    .dataframe tbody tr th {\n",
              "        vertical-align: top;\n",
              "    }\n",
              "\n",
              "    .dataframe thead th {\n",
              "        text-align: right;\n",
              "    }\n",
              "</style>\n",
              "<table border=\"1\" class=\"dataframe\">\n",
              "  <thead>\n",
              "    <tr style=\"text-align: right;\">\n",
              "      <th></th>\n",
              "      <th>category</th>\n",
              "      <th>text</th>\n",
              "    </tr>\n",
              "  </thead>\n",
              "  <tbody>\n",
              "    <tr>\n",
              "      <th>0</th>\n",
              "      <td>tech</td>\n",
              "      <td>tv future in the hands of viewers with home th...</td>\n",
              "    </tr>\n",
              "    <tr>\n",
              "      <th>1</th>\n",
              "      <td>business</td>\n",
              "      <td>worldcom boss  left books alone  former worldc...</td>\n",
              "    </tr>\n",
              "    <tr>\n",
              "      <th>2</th>\n",
              "      <td>sport</td>\n",
              "      <td>tigers wary of farrell  gamble  leicester say ...</td>\n",
              "    </tr>\n",
              "    <tr>\n",
              "      <th>3</th>\n",
              "      <td>sport</td>\n",
              "      <td>yeading face newcastle in fa cup premiership s...</td>\n",
              "    </tr>\n",
              "    <tr>\n",
              "      <th>4</th>\n",
              "      <td>entertainment</td>\n",
              "      <td>ocean s twelve raids box office ocean s twelve...</td>\n",
              "    </tr>\n",
              "  </tbody>\n",
              "</table>\n",
              "</div>\n",
              "      <button class=\"colab-df-convert\" onclick=\"convertToInteractive('df-c0072137-9817-49b2-b36e-32cf482fd505')\"\n",
              "              title=\"Convert this dataframe to an interactive table.\"\n",
              "              style=\"display:none;\">\n",
              "        \n",
              "  <svg xmlns=\"http://www.w3.org/2000/svg\" height=\"24px\"viewBox=\"0 0 24 24\"\n",
              "       width=\"24px\">\n",
              "    <path d=\"M0 0h24v24H0V0z\" fill=\"none\"/>\n",
              "    <path d=\"M18.56 5.44l.94 2.06.94-2.06 2.06-.94-2.06-.94-.94-2.06-.94 2.06-2.06.94zm-11 1L8.5 8.5l.94-2.06 2.06-.94-2.06-.94L8.5 2.5l-.94 2.06-2.06.94zm10 10l.94 2.06.94-2.06 2.06-.94-2.06-.94-.94-2.06-.94 2.06-2.06.94z\"/><path d=\"M17.41 7.96l-1.37-1.37c-.4-.4-.92-.59-1.43-.59-.52 0-1.04.2-1.43.59L10.3 9.45l-7.72 7.72c-.78.78-.78 2.05 0 2.83L4 21.41c.39.39.9.59 1.41.59.51 0 1.02-.2 1.41-.59l7.78-7.78 2.81-2.81c.8-.78.8-2.07 0-2.86zM5.41 20L4 18.59l7.72-7.72 1.47 1.35L5.41 20z\"/>\n",
              "  </svg>\n",
              "      </button>\n",
              "      \n",
              "  <style>\n",
              "    .colab-df-container {\n",
              "      display:flex;\n",
              "      flex-wrap:wrap;\n",
              "      gap: 12px;\n",
              "    }\n",
              "\n",
              "    .colab-df-convert {\n",
              "      background-color: #E8F0FE;\n",
              "      border: none;\n",
              "      border-radius: 50%;\n",
              "      cursor: pointer;\n",
              "      display: none;\n",
              "      fill: #1967D2;\n",
              "      height: 32px;\n",
              "      padding: 0 0 0 0;\n",
              "      width: 32px;\n",
              "    }\n",
              "\n",
              "    .colab-df-convert:hover {\n",
              "      background-color: #E2EBFA;\n",
              "      box-shadow: 0px 1px 2px rgba(60, 64, 67, 0.3), 0px 1px 3px 1px rgba(60, 64, 67, 0.15);\n",
              "      fill: #174EA6;\n",
              "    }\n",
              "\n",
              "    [theme=dark] .colab-df-convert {\n",
              "      background-color: #3B4455;\n",
              "      fill: #D2E3FC;\n",
              "    }\n",
              "\n",
              "    [theme=dark] .colab-df-convert:hover {\n",
              "      background-color: #434B5C;\n",
              "      box-shadow: 0px 1px 3px 1px rgba(0, 0, 0, 0.15);\n",
              "      filter: drop-shadow(0px 1px 2px rgba(0, 0, 0, 0.3));\n",
              "      fill: #FFFFFF;\n",
              "    }\n",
              "  </style>\n",
              "\n",
              "      <script>\n",
              "        const buttonEl =\n",
              "          document.querySelector('#df-c0072137-9817-49b2-b36e-32cf482fd505 button.colab-df-convert');\n",
              "        buttonEl.style.display =\n",
              "          google.colab.kernel.accessAllowed ? 'block' : 'none';\n",
              "\n",
              "        async function convertToInteractive(key) {\n",
              "          const element = document.querySelector('#df-c0072137-9817-49b2-b36e-32cf482fd505');\n",
              "          const dataTable =\n",
              "            await google.colab.kernel.invokeFunction('convertToInteractive',\n",
              "                                                     [key], {});\n",
              "          if (!dataTable) return;\n",
              "\n",
              "          const docLinkHtml = 'Like what you see? Visit the ' +\n",
              "            '<a target=\"_blank\" href=https://colab.research.google.com/notebooks/data_table.ipynb>data table notebook</a>'\n",
              "            + ' to learn more about interactive tables.';\n",
              "          element.innerHTML = '';\n",
              "          dataTable['output_type'] = 'display_data';\n",
              "          await google.colab.output.renderOutput(dataTable, element);\n",
              "          const docLink = document.createElement('div');\n",
              "          docLink.innerHTML = docLinkHtml;\n",
              "          element.appendChild(docLink);\n",
              "        }\n",
              "      </script>\n",
              "    </div>\n",
              "  </div>\n",
              "  "
            ]
          },
          "metadata": {},
          "execution_count": 24
        }
      ]
    },
    {
      "cell_type": "markdown",
      "id": "aggregate-calvin",
      "metadata": {
        "id": "aggregate-calvin"
      },
      "source": [
        "As you can see, each data point is composed of the category of the news article followed by a comma and then the actual text of the article."
      ]
    },
    {
      "cell_type": "markdown",
      "id": "rocky-credit",
      "metadata": {
        "id": "rocky-credit"
      },
      "source": [
        "## Removing Stopwords\n",
        "\n",
        "One important step when working with text data is to remove the **stopwords** from it. These are the most common words in the language and they rarely provide useful information for the classification process.\n",
        "\n",
        "Complete the `remove_stopwords` below. This function should receive a string and return another string that excludes all of the stopwords provided."
      ]
    },
    {
      "cell_type": "code",
      "execution_count": 16,
      "id": "permanent-privilege",
      "metadata": {
        "tags": [
          "graded"
        ],
        "id": "permanent-privilege"
      },
      "outputs": [],
      "source": [
        "# GRADED FUNCTION: remove_stopwords\n",
        "def remove_stopwords(sentence):\n",
        "    \"\"\"\n",
        "    Removes a list of stopwords\n",
        "    \n",
        "    Args:\n",
        "        sentence (string): sentence to remove the stopwords from\n",
        "    \n",
        "    Returns:\n",
        "        sentence (string): lowercase sentence without the stopwords\n",
        "    \"\"\"\n",
        "    # List of stopwords\n",
        "    stopwords = [\"a\", \"about\", \"above\", \"after\", \"again\", \"against\", \"all\", \"am\", \"an\", \"and\", \"any\", \"are\", \"as\", \"at\", \"be\", \"because\", \"been\", \"before\", \"being\", \"below\", \"between\", \"both\", \"but\", \"by\", \"could\", \"did\", \"do\", \"does\", \"doing\", \"down\", \"during\", \"each\", \"few\", \"for\", \"from\", \"further\", \"had\", \"has\", \"have\", \"having\", \"he\", \"he'd\", \"he'll\", \"he's\", \"her\", \"here\", \"here's\", \"hers\", \"herself\", \"him\", \"himself\", \"his\", \"how\", \"how's\", \"i\", \"i'd\", \"i'll\", \"i'm\", \"i've\", \"if\", \"in\", \"into\", \"is\", \"it\", \"it's\", \"its\", \"itself\", \"let's\", \"me\", \"more\", \"most\", \"my\", \"myself\", \"nor\", \"of\", \"on\", \"once\", \"only\", \"or\", \"other\", \"ought\", \"our\", \"ours\", \"ourselves\", \"out\", \"over\", \"own\", \"same\", \"she\", \"she'd\", \"she'll\", \"she's\", \"should\", \"so\", \"some\", \"such\", \"than\", \"that\", \"that's\", \"the\", \"their\", \"theirs\", \"them\", \"themselves\", \"then\", \"there\", \"there's\", \"these\", \"they\", \"they'd\", \"they'll\", \"they're\", \"they've\", \"this\", \"those\", \"through\", \"to\", \"too\", \"under\", \"until\", \"up\", \"very\", \"was\", \"we\", \"we'd\", \"we'll\", \"we're\", \"we've\", \"were\", \"what\", \"what's\", \"when\", \"when's\", \"where\", \"where's\", \"which\", \"while\", \"who\", \"who's\", \"whom\", \"why\", \"why's\", \"with\", \"would\", \"you\", \"you'd\", \"you'll\", \"you're\", \"you've\", \"your\", \"yours\", \"yourself\", \"yourselves\" ]\n",
        "    \n",
        "    # Sentence converted to lowercase-only\n",
        "    sentence = sentence.lower()\n",
        "\n",
        "    ### START CODE HERE\n",
        "    sentence = sentence.split(' ')\n",
        "    sentence = [word for word in sentence if word not in stopwords]\n",
        "    sentence = ' '.join(sentence)        \n",
        "    ### END CODE HERE\n",
        "    return sentence"
      ]
    },
    {
      "cell_type": "code",
      "execution_count": null,
      "id": "northern-third",
      "metadata": {
        "tags": [
          "graded"
        ],
        "colab": {
          "base_uri": "https://localhost:8080/",
          "height": 35
        },
        "id": "northern-third",
        "outputId": "fcff474e-82fc-41be-d2c7-e5bf38535aed"
      },
      "outputs": [
        {
          "output_type": "execute_result",
          "data": {
            "text/plain": [
              "'go store get snack'"
            ],
            "application/vnd.google.colaboratory.intrinsic+json": {
              "type": "string"
            }
          },
          "metadata": {},
          "execution_count": 6
        }
      ],
      "source": [
        "# Test your function\n",
        "remove_stopwords(\"I am about to go to the store and get any snack\")"
      ]
    },
    {
      "cell_type": "markdown",
      "id": "pressed-excellence",
      "metadata": {
        "id": "pressed-excellence"
      },
      "source": [
        "***Expected Output:***\n",
        "```\n",
        "'go store get snack'\n",
        "\n",
        "```"
      ]
    },
    {
      "cell_type": "markdown",
      "id": "animal-photography",
      "metadata": {
        "id": "animal-photography"
      },
      "source": [
        "## Reading the raw data\n",
        "\n",
        "Now you need to read the data from the csv file. To do so, complete the `parse_data_from_file` function.\n",
        "\n",
        "A couple of things to note:\n",
        "- You should omit the first line as it contains the headers and not data points.\n",
        "- There is no need to save the data points as numpy arrays, regular lists is fine.\n",
        "- To read from csv files use [`csv.reader`](https://docs.python.org/3/library/csv.html#csv.reader) by passing the appropriate arguments.\n",
        "- `csv.reader` returns an iterable that returns each row in every iteration. So the label can be accessed via row[0] and the text via row[1].\n",
        "- Use the `remove_stopwords` function in each sentence."
      ]
    },
    {
      "cell_type": "code",
      "execution_count": 14,
      "id": "monthly-beginning",
      "metadata": {
        "tags": [
          "graded"
        ],
        "id": "monthly-beginning"
      },
      "outputs": [],
      "source": [
        "# GRADED FUNCTION: parse_data_from_file\n",
        "def parse_data_from_file(filename_url):\n",
        "    \"\"\"\n",
        "    Extracts sentences and labels from a CSV file\n",
        "    \n",
        "    Args:\n",
        "        filename (string): path to the CSV file\n",
        "    \n",
        "    Returns:\n",
        "        sentences, labels (list of string, list of string): tuple containing lists of sentences and labels\n",
        "    \"\"\"\n",
        "    dataframe = pd.read_csv(filename_url)\n",
        "    sentences = [remove_stopwords(sentence) for sentence in dataframe['text']]\n",
        "    labels = list(dataframe['category'])\n",
        "        ### END CODE HERE\n",
        "    return sentences, labels"
      ]
    },
    {
      "cell_type": "code",
      "execution_count": 18,
      "id": "listed-saturn",
      "metadata": {
        "tags": [
          "graded"
        ],
        "colab": {
          "base_uri": "https://localhost:8080/"
        },
        "id": "listed-saturn",
        "outputId": "64cbfde4-e9e6-4e2e-d12d-814de91f6e45"
      },
      "outputs": [
        {
          "output_type": "stream",
          "name": "stdout",
          "text": [
            "ORIGINAL DATASET:\n",
            "\n",
            "There are 2225 sentences in the dataset.\n",
            "\n",
            "First sentence has 436 words (after removing stopwords).\n",
            "\n",
            "There are 2225 labels in the dataset.\n",
            "\n",
            "The first 5 labels are ['tech', 'business', 'sport', 'sport', 'entertainment']\n",
            "\n",
            "\n",
            "MINIATURE DATASET:\n",
            "\n",
            "There are 5 sentences in the miniature dataset.\n",
            "\n",
            "First sentence has 436 words (after removing stopwords).\n",
            "\n",
            "There are 5 labels in the miniature dataset.\n",
            "\n",
            "The first 5 labels are ['tech', 'business', 'sport', 'sport', 'entertainment']\n"
          ]
        }
      ],
      "source": [
        "# Test your function\n",
        "\n",
        "# With original dataset\n",
        "url = \"https://raw.githubusercontent.com/vuongthinh209/Natural-language-processing-tensorflow/main/W1/C3W1_Assignment/bbc-text.csv\"\n",
        "sentences, labels = parse_data_from_file(url)\n",
        "\n",
        "print(\"ORIGINAL DATASET:\\n\")\n",
        "print(f\"There are {len(sentences)} sentences in the dataset.\\n\")\n",
        "print(f\"First sentence has {len(sentences[0].split())} words (after removing stopwords).\\n\")\n",
        "print(f\"There are {len(labels)} labels in the dataset.\\n\")\n",
        "print(f\"The first 5 labels are {labels[:5]}\\n\\n\")\n",
        "\n",
        "# With a miniature version of the dataset that contains only first 5 rows\n",
        "url = \"https://raw.githubusercontent.com/vuongthinh209/Natural-language-processing-tensorflow/main/W1/C3W1_Assignment/bbc-text-minimal.csv\"\n",
        "mini_sentences, mini_labels = parse_data_from_file(url)\n",
        "\n",
        "print(\"MINIATURE DATASET:\\n\")\n",
        "print(f\"There are {len(mini_sentences)} sentences in the miniature dataset.\\n\")\n",
        "print(f\"First sentence has {len(mini_sentences[0].split())} words (after removing stopwords).\\n\")\n",
        "print(f\"There are {len(mini_labels)} labels in the miniature dataset.\\n\")\n",
        "print(f\"The first 5 labels are {mini_labels[:5]}\")"
      ]
    },
    {
      "cell_type": "markdown",
      "id": "favorite-shanghai",
      "metadata": {
        "id": "favorite-shanghai"
      },
      "source": [
        "***Expected Output:***\n",
        "```\n",
        "ORIGINAL DATASET:\n",
        "\n",
        "There are 2225 sentences in the dataset.\n",
        "\n",
        "First sentence has 436 words (after removing stopwords).\n",
        "\n",
        "There are 2225 labels in the dataset.\n",
        "\n",
        "The first 5 labels are ['tech', 'business', 'sport', 'sport', 'entertainment']\n",
        "\n",
        "\n",
        "MINIATURE DATASET:\n",
        "\n",
        "There are 5 sentences in the miniature dataset.\n",
        "\n",
        "First sentence has 436 words (after removing stopwords).\n",
        "\n",
        "There are 5 labels in the miniature dataset.\n",
        "\n",
        "The first 5 labels are ['tech', 'business', 'sport', 'sport', 'entertainment']\n",
        "\n",
        "```"
      ]
    },
    {
      "cell_type": "markdown",
      "id": "diverse-basket",
      "metadata": {
        "id": "diverse-basket"
      },
      "source": [
        "## Using the Tokenizer\n",
        "\n",
        "Now it is time to tokenize the sentences of the dataset. \n",
        "\n",
        "Complete the `fit_tokenizer` below. \n",
        "\n",
        "This function should receive the list of sentences as input and return a [Tokenizer](https://www.tensorflow.org/api_docs/python/tf/keras/preprocessing/text/Tokenizer) that has been fitted to those sentences. You should also define the \"Out of Vocabulary\" token as `<OOV>`."
      ]
    },
    {
      "cell_type": "code",
      "execution_count": null,
      "id": "cultural-virginia",
      "metadata": {
        "tags": [
          "graded"
        ],
        "id": "cultural-virginia"
      },
      "outputs": [],
      "source": [
        "# GRADED FUNCTION: fit_tokenizer\n",
        "def fit_tokenizer(sentences):\n",
        "    \"\"\"\n",
        "    Instantiates the Tokenizer class\n",
        "    \n",
        "    Args:\n",
        "        sentences (list): lower-cased sentences without stopwords\n",
        "    \n",
        "    Returns:\n",
        "        tokenizer (object): an instance of the Tokenizer class containing the word-index dictionary\n",
        "    \"\"\"\n",
        "    ### START CODE HERE\n",
        "    # Instantiate the Tokenizer class by passing in the oov_token argument\n",
        "    tokenizer = Tokenizer(oov_token = '<OOV>')\n",
        "    # Fit on the sentences\n",
        "    tokenizer.fit_on_texts(sentences)\n",
        "    ### END CODE HERE\n",
        "    return tokenizer"
      ]
    },
    {
      "cell_type": "code",
      "execution_count": null,
      "id": "tracked-hostel",
      "metadata": {
        "tags": [
          "graded"
        ],
        "id": "tracked-hostel",
        "outputId": "1a26455c-87d3-4db3-b164-1d5ac1e3107f"
      },
      "outputs": [
        {
          "name": "stdout",
          "output_type": "stream",
          "text": [
            "Vocabulary contains 29714 words\n",
            "\n",
            "<OOV> token included in vocabulary\n"
          ]
        }
      ],
      "source": [
        "tokenizer = fit_tokenizer(sentences)\n",
        "word_index = tokenizer.word_index\n",
        "\n",
        "print(f\"Vocabulary contains {len(word_index)} words\\n\")\n",
        "print(\"<OOV> token included in vocabulary\" if \"<OOV>\" in word_index else \"<OOV> token NOT included in vocabulary\")"
      ]
    },
    {
      "cell_type": "markdown",
      "id": "moderate-pollution",
      "metadata": {
        "id": "moderate-pollution"
      },
      "source": [
        "***Expected Output:***\n",
        "```\n",
        "Vocabulary contains 29714 words\n",
        "\n",
        "<OOV> token included in vocabulary\n",
        "\n",
        "```"
      ]
    },
    {
      "cell_type": "code",
      "execution_count": null,
      "id": "golden-flash",
      "metadata": {
        "tags": [
          "graded"
        ],
        "id": "golden-flash"
      },
      "outputs": [],
      "source": [
        "# GRADED FUNCTION: get_padded_sequences\n",
        "def get_padded_sequences(tokenizer, sentences):\n",
        "    \"\"\"\n",
        "    Generates an array of token sequences and pads them to the same length\n",
        "    \n",
        "    Args:\n",
        "        tokenizer (object): Tokenizer instance containing the word-index dictionary\n",
        "        sentences (list of string): list of sentences to tokenize and pad\n",
        "    \n",
        "    Returns:\n",
        "        padded_sequences (array of int): tokenized sentences padded to the same length\n",
        "    \"\"\"\n",
        "    \n",
        "    ### START CODE HERE\n",
        "    # Convert sentences to sequences\n",
        "    sequences = tokenizer.texts_to_sequences(sentences)\n",
        "    \n",
        "    # Pad the sequences using the post padding strategy\n",
        "    padded_sequences = pad_sequences(sequences, padding = 'post')\n",
        "    ### END CODE HERE\n",
        "    \n",
        "    return padded_sequences"
      ]
    },
    {
      "cell_type": "code",
      "execution_count": null,
      "id": "spanish-entrepreneur",
      "metadata": {
        "tags": [
          "graded"
        ],
        "id": "spanish-entrepreneur",
        "outputId": "387ac6a9-3a52-4a9d-ddde-97e900661514"
      },
      "outputs": [
        {
          "name": "stdout",
          "output_type": "stream",
          "text": [
            "First padded sequence looks like this: \n",
            "\n",
            "[1142    0    0 ...    0    0    0]\n",
            "\n",
            "Numpy array of all sequences has shape: (2226, 2438)\n",
            "\n",
            "This means there are 2226 sequences in total and each one has a size of 2438\n"
          ]
        }
      ],
      "source": [
        "padded_sequences = get_padded_sequences(tokenizer, sentences)\n",
        "print(f\"First padded sequence looks like this: \\n\\n{padded_sequences[0]}\\n\")\n",
        "print(f\"Numpy array of all sequences has shape: {padded_sequences.shape}\\n\")\n",
        "print(f\"This means there are {padded_sequences.shape[0]} sequences in total and each one has a size of {padded_sequences.shape[1]}\")"
      ]
    },
    {
      "cell_type": "markdown",
      "id": "wired-brief",
      "metadata": {
        "id": "wired-brief"
      },
      "source": [
        "***Expected Output:***\n",
        "```\n",
        "First padded sequence looks like this: \n",
        "\n",
        "[  96  176 1157 ...    0    0    0]\n",
        "\n",
        "Numpy array of all sequences has shape: (2225, 2438)\n",
        "\n",
        "This means there are 2225 sequences in total and each one has a size of 2438\n",
        "\n",
        "```"
      ]
    },
    {
      "cell_type": "code",
      "execution_count": null,
      "id": "unknown-optimization",
      "metadata": {
        "tags": [
          "graded"
        ],
        "id": "unknown-optimization"
      },
      "outputs": [],
      "source": [
        "# GRADED FUNCTION: tokenize_labels\n",
        "def tokenize_labels(labels):\n",
        "    \"\"\"\n",
        "    Tokenizes the labels\n",
        "    \n",
        "    Args:\n",
        "        labels (list of string): labels to tokenize\n",
        "    \n",
        "    Returns:\n",
        "        label_sequences, label_word_index (list of string, dictionary): tokenized labels and the word-index\n",
        "    \"\"\"\n",
        "    ### START CODE HERE\n",
        "    \n",
        "    # Instantiate the Tokenizer class\n",
        "    # No need to pass additional arguments since you will be tokenizing the labels\n",
        "    label_tokenizer = Tokenizer()\n",
        "    \n",
        "    # Fit the tokenizer to the labels\n",
        "    label_tokenizer.fit_on_texts(labels)\n",
        "    \n",
        "    # Save the word index\n",
        "    label_word_index = label_tokenizer.word_index\n",
        "    \n",
        "    # Save the sequences\n",
        "    label_sequences = label_tokenizer.texts_to_sequences(labels)\n",
        "\n",
        "    ### END CODE HERE\n",
        "    \n",
        "    return label_sequences, label_word_index"
      ]
    },
    {
      "cell_type": "code",
      "execution_count": null,
      "id": "streaming-conviction",
      "metadata": {
        "tags": [
          "graded"
        ],
        "id": "streaming-conviction",
        "outputId": "09b72e80-4419-44b1-cb20-dff3bdbc89d4"
      },
      "outputs": [
        {
          "name": "stdout",
          "output_type": "stream",
          "text": [
            "Vocabulary of labels looks like this {'sport': 1, 'business': 2, 'politics': 3, 'tech': 4, 'entertainment': 5, 'category': 6}\n",
            "\n",
            "First ten sequences [[6], [4], [2], [1], [1], [5], [3], [3], [1], [1]]\n",
            "\n"
          ]
        }
      ],
      "source": [
        "label_sequences, label_word_index = tokenize_labels(labels)\n",
        "print(f\"Vocabulary of labels looks like this {label_word_index}\\n\")\n",
        "print(f\"First ten sequences {label_sequences[:10]}\\n\")"
      ]
    },
    {
      "cell_type": "markdown",
      "id": "endangered-poultry",
      "metadata": {
        "id": "endangered-poultry"
      },
      "source": [
        "***Expected Output:***\n",
        "```\n",
        "Vocabulary of labels looks like this {'sport': 1, 'business': 2, 'politics': 3, 'tech': 4, 'entertainment': 5}\n",
        "\n",
        "First ten sequences [[4], [2], [1], [1], [5], [3], [3], [1], [1], [5]]\n",
        "\n",
        "```"
      ]
    },
    {
      "cell_type": "markdown",
      "id": "cross-chess",
      "metadata": {
        "id": "cross-chess"
      },
      "source": [
        "**Congratulations on finishing this week's assignment!**\n",
        "\n",
        "You have successfully implemented functions to process various text data processing ranging from pre-processing, reading from raw files and tokenizing text.\n",
        "\n",
        "**Keep it up!**"
      ]
    }
  ],
  "metadata": {
    "dlai_version": "1.2.0",
    "kernelspec": {
      "display_name": "Python 3",
      "language": "python",
      "name": "python3"
    },
    "language_info": {
      "codemirror_mode": {
        "name": "ipython",
        "version": 3
      },
      "file_extension": ".py",
      "mimetype": "text/x-python",
      "name": "python",
      "nbconvert_exporter": "python",
      "pygments_lexer": "ipython3",
      "version": "3.8.8"
    },
    "colab": {
      "name": "C3W1_Assignment.ipynb",
      "provenance": [],
      "include_colab_link": true
    }
  },
  "nbformat": 4,
  "nbformat_minor": 5
}